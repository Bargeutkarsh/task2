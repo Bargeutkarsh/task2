{
 "cells": [
  {
   "cell_type": "code",
   "execution_count": 1,
   "id": "48295e71",
   "metadata": {},
   "outputs": [
    {
     "name": "stdout",
     "output_type": "stream",
     "text": [
      "Welcome to the Guessing Game!\n",
      "I've selected a number between 1 and 100. Can you guess it?\n",
      "Enter your guess: 60\n",
      "Too high! Try again.\n",
      "Enter your guess: 30\n",
      "Too low! Try again.\n",
      "Enter your guess: 45\n",
      "Too high! Try again.\n",
      "Enter your guess: 37\n",
      "Too low! Try again.\n",
      "Enter your guess: 42\n",
      "Too high! Try again.\n",
      "Sorry, you've run out of attempts. The correct number was 41.\n"
     ]
    }
   ],
   "source": [
    "import random\n",
    "\n",
    "def guessing_game():\n",
    "    # Generate a random number between 1 and 100\n",
    "    secret_number = random.randint(1, 100)\n",
    "    attempts = 0\n",
    "    max_attempts = 5  # Adjust this value as needed\n",
    "\n",
    "    print(\"Welcome to the Guessing Game!\")\n",
    "    print(\"I've selected a number between 1 and 100. Can you guess it?\")\n",
    "\n",
    "    while attempts < max_attempts:\n",
    "        guess = int(input(\"Enter your guess: \"))\n",
    "\n",
    "        if guess < secret_number:\n",
    "            print(\"Too low! Try again.\")\n",
    "        elif guess > secret_number:\n",
    "            print(\"Too high! Try again.\")\n",
    "        else:\n",
    "            print(f\"Congratulations! You've guessed the number ({secret_number}) correctly in {attempts + 1} attempts.\")\n",
    "            break\n",
    "\n",
    "        attempts += 1\n",
    "\n",
    "    if attempts == max_attempts:\n",
    "        print(f\"Sorry, you've run out of attempts. The correct number was {secret_number}.\")\n",
    "\n",
    "if __name__ == \"__main__\":\n",
    "    guessing_game()\n"
   ]
  },
  {
   "cell_type": "code",
   "execution_count": null,
   "id": "ee7dc0a1",
   "metadata": {},
   "outputs": [],
   "source": []
  }
 ],
 "metadata": {
  "kernelspec": {
   "display_name": "Python 3 (ipykernel)",
   "language": "python",
   "name": "python3"
  },
  "language_info": {
   "codemirror_mode": {
    "name": "ipython",
    "version": 3
   },
   "file_extension": ".py",
   "mimetype": "text/x-python",
   "name": "python",
   "nbconvert_exporter": "python",
   "pygments_lexer": "ipython3",
   "version": "3.9.7"
  }
 },
 "nbformat": 4,
 "nbformat_minor": 5
}
